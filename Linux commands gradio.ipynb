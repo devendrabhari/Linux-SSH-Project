{
 "cells": [
  {
   "cell_type": "code",
   "execution_count": 1,
   "id": "97800573-83b4-434b-8453-b385f14f8d6d",
   "metadata": {},
   "outputs": [
    {
     "name": "stderr",
     "output_type": "stream",
     "text": [
      "C:\\Users\\HP\\anaconda3\\Lib\\site-packages\\paramiko\\pkey.py:82: CryptographyDeprecationWarning: TripleDES has been moved to cryptography.hazmat.decrepit.ciphers.algorithms.TripleDES and will be removed from this module in 48.0.0.\n",
      "  \"cipher\": algorithms.TripleDES,\n",
      "C:\\Users\\HP\\anaconda3\\Lib\\site-packages\\paramiko\\transport.py:219: CryptographyDeprecationWarning: Blowfish has been moved to cryptography.hazmat.decrepit.ciphers.algorithms.Blowfish and will be removed from this module in 45.0.0.\n",
      "  \"class\": algorithms.Blowfish,\n",
      "C:\\Users\\HP\\anaconda3\\Lib\\site-packages\\paramiko\\transport.py:243: CryptographyDeprecationWarning: TripleDES has been moved to cryptography.hazmat.decrepit.ciphers.algorithms.TripleDES and will be removed from this module in 48.0.0.\n",
      "  \"class\": algorithms.TripleDES,\n"
     ]
    },
    {
     "name": "stdout",
     "output_type": "stream",
     "text": [
      "* Running on local URL:  http://127.0.0.1:7862\n",
      "* To create a public link, set `share=True` in `launch()`.\n"
     ]
    },
    {
     "data": {
      "text/html": [
       "<div><iframe src=\"http://127.0.0.1:7862/\" width=\"100%\" height=\"500\" allow=\"autoplay; camera; microphone; clipboard-read; clipboard-write;\" frameborder=\"0\" allowfullscreen></iframe></div>"
      ],
      "text/plain": [
       "<IPython.core.display.HTML object>"
      ]
     },
     "metadata": {},
     "output_type": "display_data"
    },
    {
     "data": {
      "text/plain": []
     },
     "execution_count": 1,
     "metadata": {},
     "output_type": "execute_result"
    }
   ],
   "source": [
    "import paramiko\n",
    "import gradio as gr\n",
    "\n",
    "# Linux Commands Menu\n",
    "LINUX_MENU = {\n",
    "    \"Show date\": \"date\",\n",
    "    \"Show time\": \"date +%T\",\n",
    "    \"List directory\": \"ls -l\",\n",
    "    \"Current user\": \"whoami\",\n",
    "    \"System info\": \"uname -a\",\n",
    "    \"Running tasks\": \"top -b -n 1 | head -15\",\n",
    "    \"IP config\": \"ip a\",\n",
    "    \"Active connections\": \"ss -tuln\",\n",
    "    \"ARP table\": \"ip neigh\",\n",
    "    \"All users\": \"cut -d: -f1 /etc/passwd\",\n",
    "    \"Logged in users\": \"who\",\n",
    "    \"Environment variables\": \"printenv\",\n",
    "    \"List services\": \"systemctl list-units --type=service --state=running\",\n",
    "    \"Running processes\": \"ps aux --sort=-%mem | head -10\",\n",
    "    \"Installed packages (dpkg)\": \"dpkg -l | head -20\",\n",
    "    \"Installed packages (rpm)\": \"rpm -qa | head -20\",\n",
    "    \"Battery status\": \"acpi -b || echo 'No battery info'\",\n",
    "    \"Disk usage\": \"df -h\",\n",
    "    \"Startup programs\": \"ls /etc/init.d/\",\n",
    "    \"BIOS info\": \"dmidecode -t bios\",\n",
    "    \"CPU info\": \"lscpu\",\n",
    "    \"Memory info\": \"free -h\",\n",
    "    \"Motherboard info\": \"dmidecode -t baseboard\",\n",
    "    \"Network adapters\": \"lshw -class network\",\n",
    "    \"Uptime\": \"uptime\",\n",
    "    \"Routing table\": \"ip route\",\n",
    "    \"Kernel version\": \"uname -r\",\n",
    "    \"Hostname\": \"hostname\",\n",
    "    \"Check internet\": \"ping -c 4 8.8.8.8\",\n",
    "    \"Show open ports\": \"netstat -tulpn\",\n",
    "    \"Show firewall rules\": \"iptables -L\",\n",
    "    \"Show SSH config\": \"cat /etc/ssh/sshd_config\",\n",
    "    \"Show crontab\": \"crontab -l\",\n",
    "    \"List users with UID 0\": \"awk -F: '$3 == 0 {print $1}' /etc/passwd\",\n",
    "    \"Show last logins\": \"last -a | head -10\",\n",
    "    \"Show failed logins\": \"lastb -a | head -10\",\n",
    "    \"Show system reboot history\": \"last reboot | head -10\",\n",
    "    \"Show dmesg errors\": \"dmesg | grep -i error | tail -20\",\n",
    "    \"List open files\": \"lsof | head -20\",\n",
    "    \"Show processes by user\": \"ps -u $USER\",\n",
    "    \"Show disk partitions\": \"lsblk\",\n",
    "    \"Show PCI devices\": \"lspci\",\n",
    "    \"Show USB devices\": \"lsusb\",\n",
    "    \"Show hardware info\": \"lshw | head -20\",\n",
    "    \"Show systemd failed units\": \"systemctl --failed\",\n",
    "    \"Show SELinux status\": \"sestatus\",\n",
    "    \"Show journal logs\": \"journalctl -n 20\",\n",
    "    \"Show top memory processes\": \"ps aux --sort=-%mem | head -10\",\n",
    "    \"Show top CPU processes\": \"ps aux --sort=-%cpu | head -10\",\n",
    "    \"Show swap usage\": \"swapon --show\",\n",
    "    \"Show temp files\": \"ls /tmp\"\n",
    "}\n",
    "\n",
    "\n",
    "def run_ssh_command(host, port, username, password, command_key):\n",
    "    \"\"\"Execute selected Linux command on a remote SSH server.\"\"\"\n",
    "    command = LINUX_MENU.get(command_key)\n",
    "    if not command:\n",
    "        return \"Invalid command selection.\"\n",
    "\n",
    "    ssh = paramiko.SSHClient()\n",
    "    ssh.set_missing_host_key_policy(paramiko.AutoAddPolicy())\n",
    "    try:\n",
    "        ssh.connect(hostname=host, port=port, username=username, password=password)\n",
    "        stdin, stdout, stderr = ssh.exec_command(command)\n",
    "        output = stdout.read().decode()\n",
    "        error = stderr.read().decode()\n",
    "        ssh.close()\n",
    "        return output if output else error\n",
    "    except Exception as e:\n",
    "        return f\"SSH Error: {e}\"\n",
    "\n",
    "\n",
    "def ssh_interface(host, username, password, command_key):\n",
    "    return run_ssh_command(host, 22, username, password, command_key)\n",
    "\n",
    "\n",
    "# Gradio UI\n",
    "gr.Interface(\n",
    "    fn=ssh_interface,\n",
    "    inputs=[\n",
    "        gr.Textbox(label=\"Remote IP\", placeholder=\"e.g., 192.168.1.10\"),\n",
    "        gr.Textbox(label=\"Username\"),\n",
    "        gr.Textbox(label=\"Password\", type=\"password\"),\n",
    "        gr.Dropdown(label=\"Select Linux Command\", choices=list(LINUX_MENU.keys())),\n",
    "    ],\n",
    "    outputs=gr.Textbox(label=\"Command Output\"),\n",
    "    title=\"Linux SSH Command Executor\",\n",
    "    description=\"Connect to a remote Linux server over SSH and run system-level commands.\"\n",
    ").launch()\n"
   ]
  },
  {
   "cell_type": "code",
   "execution_count": null,
   "id": "6060e4b1-c5a9-4d86-84b4-4f56b334849e",
   "metadata": {},
   "outputs": [],
   "source": []
  }
 ],
 "metadata": {
  "kernelspec": {
   "display_name": "Python 3 (ipykernel)",
   "language": "python",
   "name": "python3"
  },
  "language_info": {
   "codemirror_mode": {
    "name": "ipython",
    "version": 3
   },
   "file_extension": ".py",
   "mimetype": "text/x-python",
   "name": "python",
   "nbconvert_exporter": "python",
   "pygments_lexer": "ipython3",
   "version": "3.12.7"
  }
 },
 "nbformat": 4,
 "nbformat_minor": 5
}
